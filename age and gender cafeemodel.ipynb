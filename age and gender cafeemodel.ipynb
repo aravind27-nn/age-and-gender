{
  "nbformat": 4,
  "nbformat_minor": 0,
  "metadata": {
    "colab": {
      "name": "Untitled0.ipynb",
      "provenance": [],
      "authorship_tag": "ABX9TyMpR+3AWDmYOSfgkCF9KSp5"
    },
    "kernelspec": {
      "name": "python3",
      "display_name": "Python 3"
    },
    "language_info": {
      "name": "python"
    }
  },
  "cells": [
    {
      "cell_type": "code",
      "metadata": {
        "colab": {
          "base_uri": "https://localhost:8080/"
        },
        "id": "B7YxqHm6FajT",
        "outputId": "9f323369-1b59-4933-e87d-bbfb5436426f"
      },
      "source": [
        "!gdown https://drive.google.com/uc?id=1_aDScOvBeBLCn_iv0oxSO8X1ySQpSbIS\n",
        "!unzip modelNweight.zip\n"
      ],
      "execution_count": 1,
      "outputs": [
        {
          "output_type": "stream",
          "text": [
            "Downloading...\n",
            "From: https://drive.google.com/uc?id=1_aDScOvBeBLCn_iv0oxSO8X1ySQpSbIS\n",
            "To: /content/modelNweight.zip\n",
            "86.2MB [00:00, 129MB/s]\n",
            "Archive:  modelNweight.zip\n",
            "   creating: modelNweight/\n",
            "  inflating: modelNweight/age_deploy.prototxt  \n",
            "  inflating: modelNweight/age_net.caffemodel  \n",
            "  inflating: modelNweight/gender_deploy.prototxt  \n",
            "  inflating: modelNweight/gender_net.caffemodel  \n",
            "  inflating: modelNweight/opencv_face_detector.pbtxt  \n",
            "  inflating: modelNweight/opencv_face_detector_uint8.pb  \n"
          ],
          "name": "stdout"
        }
      ]
    }
  ]
}